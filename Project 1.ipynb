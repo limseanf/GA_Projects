{
 "cells": [
  {
   "cell_type": "markdown",
   "metadata": {},
   "source": [
    "Challenge 1: Largest Palindrome\n",
    "\n",
    "A palindromic number reads the same both ways. For example, 1234321 is a palindrome. The largest palindrome made from the product of two two-digit numbers is 9009 = 91 × 99. Find the largest palindrome made from the product of two three-digit numbers. Afterward, write a brief explanation walking through your code's logic in markdown."
   ]
  },
  {
   "cell_type": "code",
   "execution_count": 14,
   "metadata": {
    "collapsed": false
   },
   "outputs": [
    {
     "name": "stdout",
     "output_type": "stream",
     "text": [
      "906609\n"
     ]
    }
   ],
   "source": [
    "#creating variables\n",
    "num = 0\n",
    "palin = 0\n",
    "\n",
    "#iterating and multiplying through every three digit num\n",
    "for x in range(100,999,1): \n",
    "    for y in range(100,999,1):\n",
    "        num = (x*y)\n",
    "        \n",
    "#check if product is a palindrome and store the biggest palindrome      \n",
    "        if num == int(str(num)[::-1]):\n",
    "            if num > palin:\n",
    "                palin = num\n",
    "                \n",
    "#print the largest palindrome\n",
    "print(palin)\n",
    "            "
   ]
  },
  {
   "cell_type": "markdown",
   "metadata": {},
   "source": [
    "Challenge 2: Summation of Primes\n",
    "    \n",
    "The sum of the primes below 10 is 2 + 3 + 5 + 7 = 17. Find the sum of all the primes below 2,000. Afterward, write a brief explanation walking through your code's logic in markdown."
   ]
  },
  {
   "cell_type": "code",
   "execution_count": 13,
   "metadata": {
    "collapsed": false,
    "scrolled": true
   },
   "outputs": [
    {
     "name": "stdout",
     "output_type": "stream",
     "text": [
      "277050\n"
     ]
    }
   ],
   "source": [
    "#initialize list\n",
    "primeNum = []\n",
    "\n",
    "#checking for prime \n",
    "for checkNum in range(2,2001,1):    \n",
    "    isPrime = True\n",
    "    \n",
    "#using the mod operator check if any number from 2 to the number being checked (noninclusive) is a multiple of that number\n",
    "    for num in range(2, checkNum):\n",
    "        if checkNum % num == 0:\n",
    "            isPrime = False\n",
    "            break\n",
    "#adding to list of primes if true      \n",
    "    if isPrime:\n",
    "        primeNum.append(checkNum)\n",
    "        \n",
    "#summing all of the primes\n",
    "answer = sum(primeNum)\n",
    "\n",
    "#printing the answer     \n",
    "print(answer)\n"
   ]
  },
  {
   "cell_type": "markdown",
   "metadata": {},
   "source": [
    "Challenge 3: Multiples of 3 and 5\n",
    "\n",
    "If we list all of the natural numbers below 10 that are multiples of 3 or 5, we get 3, 5, 6, and 9. The sum of these multiples is 23. Find the sum of all the multiples of 3 and 5 below 1,000. Afterward, write a brief explanation walking through your code's logic in markdown."
   ]
  },
  {
   "cell_type": "code",
   "execution_count": 9,
   "metadata": {
    "collapsed": false
   },
   "outputs": [
    {
     "name": "stdout",
     "output_type": "stream",
     "text": [
      "233168\n"
     ]
    }
   ],
   "source": [
    "#defining a variable to add all multiples to\n",
    "\n",
    "sumMult = 0\n",
    "\n",
    "#loop through all numbers between 1 and 1000\n",
    "for n in range(1,1000):\n",
    "#check if the number is a multiple of 3 or 5 and if it is add it to the sumMult variable\n",
    "    if n % 3 == 0 or n % 5 == 0:\n",
    "        sumMult = n + sumMult\n",
    "        \n",
    "#print the answer    \n",
    "print(sumMult)\n"
   ]
  },
  {
   "cell_type": "markdown",
   "metadata": {},
   "source": [
    "Challenge 4: String Compressor\n",
    "\n",
    "Implement a method to perform basic string compression using the counts of repeated characters. (This is called run-length encoding.) For example, the string \"aabcccccaaa\" would become a2b1c5a3. If the “compressed” string would not become smaller than the original string, your method should return the original string. You can assume the string has only uppercase and lowercase letters (a–z). Specify whether your solution is case sensitive or case insensitive and what you would need to change to make it the other. Afterward, write a brief explanation walking through your code's logic in markdown."
   ]
  },
  {
   "cell_type": "code",
   "execution_count": 12,
   "metadata": {
    "collapsed": false
   },
   "outputs": [
    {
     "name": "stdout",
     "output_type": "stream",
     "text": [
      "a2b1c5a3\n"
     ]
    }
   ],
   "source": [
    "#defining function, variables, and initializing list\n",
    "def stringComp (string):\n",
    "    count = 1\n",
    "    compressed = []\n",
    "\n",
    "#check if the letter is a repeat\n",
    "    for x in range(1,len(string)):\n",
    "#count the number of repeated char\n",
    "        if string[x] == string[x-1]:\n",
    "            count += 1\n",
    "#once it's not a repeat append the count of that character to the list and reset the count\n",
    "        else: \n",
    "            compressed.append(str(string[x-1])+str(count))\n",
    "            count = 1\n",
    "#append the last character and count to the list\n",
    "        if x+1 == len(string):\n",
    "            compressed.append(str(string[x])+str(count))\n",
    "#make the list a string\n",
    "    answer = ''.join(compressed)\n",
    "#check if the \"compressed\" string is longer than the original\n",
    "    if len(answer) > len(string):\n",
    "        print(string)\n",
    "#print the answer        \n",
    "    else:\n",
    "        print (answer)\n",
    "#pass the string you want through the function    \n",
    "stringComp('aabcccccaaa')\n"
   ]
  },
  {
   "cell_type": "markdown",
   "metadata": {},
   "source": [
    "BONUS Challenge: FizzBuzz\n",
    "\n",
    "Write a program that prints all of the numbers from 1 to 100. For multiples of 3, instead of the number, print \"Fizz;\" for multiples of 5, print \"Buzz.\" For numbers that are multiples of both 3 and 5, print \"FizzBuzz.\" Afterward, write a brief explanation walking through your code's logic in markdown."
   ]
  },
  {
   "cell_type": "code",
   "execution_count": null,
   "metadata": {
    "collapsed": false
   },
   "outputs": [],
   "source": [
    "for x in range(1,101):\n",
    "    if x % 3 == 0 and x % 5 == 0:\n",
    "        print('FizzBuzz')\n",
    "    elif x % 3 == 0:\n",
    "        print('Fizz')\n",
    "    elif x % 5 == 0:\n",
    "        print('Buzz')\n",
    "    else:\n",
    "        print(x)"
   ]
  }
 ],
 "metadata": {
  "kernelspec": {
   "display_name": "Python 3",
   "language": "python",
   "name": "python3"
  },
  "language_info": {
   "codemirror_mode": {
    "name": "ipython",
    "version": 3
   },
   "file_extension": ".py",
   "mimetype": "text/x-python",
   "name": "python",
   "nbconvert_exporter": "python",
   "pygments_lexer": "ipython3",
   "version": "3.6.0"
  }
 },
 "nbformat": 4,
 "nbformat_minor": 2
}
